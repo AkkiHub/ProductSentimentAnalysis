{
  "nbformat": 4,
  "nbformat_minor": 0,
  "metadata": {
    "colab": {
      "provenance": [],
      "authorship_tag": "ABX9TyP84HjTpYUXnUkEKKPxgGZ8"
    },
    "kernelspec": {
      "name": "python3",
      "display_name": "Python 3"
    },
    "language_info": {
      "name": "python"
    }
  },
  "cells": [
    {
      "cell_type": "code",
      "execution_count": null,
      "metadata": {
        "id": "nfxOg2Xeyy_F"
      },
      "outputs": [],
      "source": [
        "!pip install openai\n",
        "import openai\n",
        "\n",
        "from openai import OpenAI\n",
        "\n",
        "# Your OpenAI API key\n",
        "# Set your OpenAI API key\n",
        "client = OpenAI(\n",
        "\n",
        "    api_key=\"your key\"\n",
        "\n",
        ")\n",
        "\n",
        "\n",
        "# Example list of user inputs\n",
        "customer_ratings_forDevice = [\"After 5 month of use battery drain continuously even when the tab is not in use.\",\n",
        "                              \"A great product at a very competitive price.\",\n",
        "                              \"Speaker sound is good, not great for gaming, not a camera phone, screen quality is good. \",\n",
        "                              \"faulty product received, no response for refund or replacement\",\n",
        "                              \"The performance was outstanding. It is very good for students \",\n",
        "                              \"Works smoothly. Cameras are crappy\",\n",
        "                              \"Good Product\",\n",
        "                              \"Sluggish display, not a win win situation\",\n",
        "                              \"Overall the product is good i received the  today itself\",\n",
        "                              \"The display is not up to the mark\",\n",
        "                              \"Average product expected a better one\"]\n",
        "\n",
        "\n",
        "# Function to perform sentiment analysis using OpenAI\n",
        "# polarity-based sentiment analysis\n",
        "def analyze_sentiment_openai(text):\n",
        "    response = client.chat.completions.create(\n",
        "        model=\"gpt-3.5-turbo\",  # or \"gpt-4\" if you have access\n",
        "        messages=[\n",
        "            {\"role\": \"system\", \"content\": \"You are a sentiment analysis tool for a product.\"},\n",
        "            {\"role\": \"user\", \"content\": f\"Classify the sentiment of the following text: {text}\"}\n",
        "        ]\n",
        "    )\n",
        "    return response.choices[0].message['content'].strip()\n",
        "\n",
        "# Perform sentiment analysis on each input\n",
        "sentiment_results = [analyze_sentiment_openai(text) for text in customer_ratings_forDevice]\n",
        "\n",
        "# Print out the results\n",
        "for input_text, sentiment in zip(customer_ratings_forDevice, sentiment_results):\n",
        "    print(f\"Input: {input_text}\\nSentiment: {sentiment}\\n\")\n"
      ]
    }
  ]
}